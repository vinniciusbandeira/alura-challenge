{
  "nbformat": 4,
  "nbformat_minor": 0,
  "metadata": {
    "colab": {
      "provenance": []
    },
    "kernelspec": {
      "name": "python3",
      "display_name": "Python 3"
    },
    "language_info": {
      "name": "python"
    }
  },
  "cells": [
    {
      "cell_type": "markdown",
      "source": [
        "### Importação dos dados\n",
        "\n"
      ],
      "metadata": {
        "id": "RhEdWd9YUR6H"
      }
    },
    {
      "cell_type": "code",
      "execution_count": 6,
      "metadata": {
        "colab": {
          "base_uri": "https://localhost:8080/",
          "height": 293
        },
        "id": "T3EvaeQ_INIL",
        "outputId": "051eeb1f-a980-4cee-f817-7d3b3ea42214"
      },
      "outputs": [
        {
          "output_type": "execute_result",
          "data": {
            "text/plain": [
              "                 Produto Categoria do Produto    Preço      Frete  \\\n",
              "0     Assistente virtual          eletronicos   219.08   9.249790   \n",
              "1         Mesa de jantar               moveis   256.35  11.234305   \n",
              "2      Jogo de tabuleiro           brinquedos   279.51  21.262681   \n",
              "3            Micro-ondas     eletrodomesticos  1009.99  54.667344   \n",
              "4  Cadeira de escritório               moveis   446.99  26.964689   \n",
              "\n",
              "  Data da Compra        Vendedor Local da compra  Avaliação da compra  \\\n",
              "0     16/01/2021     Pedro Gomes              SP                    4   \n",
              "1     18/05/2022  Beatriz Moraes              RJ                    1   \n",
              "2     15/03/2021      João Souza              DF                    1   \n",
              "3     03/05/2022      João Souza              RS                    4   \n",
              "4     07/11/2020   Larissa Alves              MG                    5   \n",
              "\n",
              "  Tipo de pagamento  Quantidade de parcelas    lat    lon  \n",
              "0    cartao_credito                       8 -22.19 -48.79  \n",
              "1    cartao_credito                       4 -22.25 -42.66  \n",
              "2    cartao_credito                       1 -15.83 -47.86  \n",
              "3            boleto                       1 -30.17 -53.50  \n",
              "4            boleto                       1 -18.10 -44.38  "
            ],
            "text/html": [
              "\n",
              "  <div id=\"df-d685c279-e24a-4d02-b2c1-bd9e2628b339\" class=\"colab-df-container\">\n",
              "    <div>\n",
              "<style scoped>\n",
              "    .dataframe tbody tr th:only-of-type {\n",
              "        vertical-align: middle;\n",
              "    }\n",
              "\n",
              "    .dataframe tbody tr th {\n",
              "        vertical-align: top;\n",
              "    }\n",
              "\n",
              "    .dataframe thead th {\n",
              "        text-align: right;\n",
              "    }\n",
              "</style>\n",
              "<table border=\"1\" class=\"dataframe\">\n",
              "  <thead>\n",
              "    <tr style=\"text-align: right;\">\n",
              "      <th></th>\n",
              "      <th>Produto</th>\n",
              "      <th>Categoria do Produto</th>\n",
              "      <th>Preço</th>\n",
              "      <th>Frete</th>\n",
              "      <th>Data da Compra</th>\n",
              "      <th>Vendedor</th>\n",
              "      <th>Local da compra</th>\n",
              "      <th>Avaliação da compra</th>\n",
              "      <th>Tipo de pagamento</th>\n",
              "      <th>Quantidade de parcelas</th>\n",
              "      <th>lat</th>\n",
              "      <th>lon</th>\n",
              "    </tr>\n",
              "  </thead>\n",
              "  <tbody>\n",
              "    <tr>\n",
              "      <th>0</th>\n",
              "      <td>Assistente virtual</td>\n",
              "      <td>eletronicos</td>\n",
              "      <td>219.08</td>\n",
              "      <td>9.249790</td>\n",
              "      <td>16/01/2021</td>\n",
              "      <td>Pedro Gomes</td>\n",
              "      <td>SP</td>\n",
              "      <td>4</td>\n",
              "      <td>cartao_credito</td>\n",
              "      <td>8</td>\n",
              "      <td>-22.19</td>\n",
              "      <td>-48.79</td>\n",
              "    </tr>\n",
              "    <tr>\n",
              "      <th>1</th>\n",
              "      <td>Mesa de jantar</td>\n",
              "      <td>moveis</td>\n",
              "      <td>256.35</td>\n",
              "      <td>11.234305</td>\n",
              "      <td>18/05/2022</td>\n",
              "      <td>Beatriz Moraes</td>\n",
              "      <td>RJ</td>\n",
              "      <td>1</td>\n",
              "      <td>cartao_credito</td>\n",
              "      <td>4</td>\n",
              "      <td>-22.25</td>\n",
              "      <td>-42.66</td>\n",
              "    </tr>\n",
              "    <tr>\n",
              "      <th>2</th>\n",
              "      <td>Jogo de tabuleiro</td>\n",
              "      <td>brinquedos</td>\n",
              "      <td>279.51</td>\n",
              "      <td>21.262681</td>\n",
              "      <td>15/03/2021</td>\n",
              "      <td>João Souza</td>\n",
              "      <td>DF</td>\n",
              "      <td>1</td>\n",
              "      <td>cartao_credito</td>\n",
              "      <td>1</td>\n",
              "      <td>-15.83</td>\n",
              "      <td>-47.86</td>\n",
              "    </tr>\n",
              "    <tr>\n",
              "      <th>3</th>\n",
              "      <td>Micro-ondas</td>\n",
              "      <td>eletrodomesticos</td>\n",
              "      <td>1009.99</td>\n",
              "      <td>54.667344</td>\n",
              "      <td>03/05/2022</td>\n",
              "      <td>João Souza</td>\n",
              "      <td>RS</td>\n",
              "      <td>4</td>\n",
              "      <td>boleto</td>\n",
              "      <td>1</td>\n",
              "      <td>-30.17</td>\n",
              "      <td>-53.50</td>\n",
              "    </tr>\n",
              "    <tr>\n",
              "      <th>4</th>\n",
              "      <td>Cadeira de escritório</td>\n",
              "      <td>moveis</td>\n",
              "      <td>446.99</td>\n",
              "      <td>26.964689</td>\n",
              "      <td>07/11/2020</td>\n",
              "      <td>Larissa Alves</td>\n",
              "      <td>MG</td>\n",
              "      <td>5</td>\n",
              "      <td>boleto</td>\n",
              "      <td>1</td>\n",
              "      <td>-18.10</td>\n",
              "      <td>-44.38</td>\n",
              "    </tr>\n",
              "  </tbody>\n",
              "</table>\n",
              "</div>\n",
              "    <div class=\"colab-df-buttons\">\n",
              "\n",
              "  <div class=\"colab-df-container\">\n",
              "    <button class=\"colab-df-convert\" onclick=\"convertToInteractive('df-d685c279-e24a-4d02-b2c1-bd9e2628b339')\"\n",
              "            title=\"Convert this dataframe to an interactive table.\"\n",
              "            style=\"display:none;\">\n",
              "\n",
              "  <svg xmlns=\"http://www.w3.org/2000/svg\" height=\"24px\" viewBox=\"0 -960 960 960\">\n",
              "    <path d=\"M120-120v-720h720v720H120Zm60-500h600v-160H180v160Zm220 220h160v-160H400v160Zm0 220h160v-160H400v160ZM180-400h160v-160H180v160Zm440 0h160v-160H620v160ZM180-180h160v-160H180v160Zm440 0h160v-160H620v160Z\"/>\n",
              "  </svg>\n",
              "    </button>\n",
              "\n",
              "  <style>\n",
              "    .colab-df-container {\n",
              "      display:flex;\n",
              "      gap: 12px;\n",
              "    }\n",
              "\n",
              "    .colab-df-convert {\n",
              "      background-color: #E8F0FE;\n",
              "      border: none;\n",
              "      border-radius: 50%;\n",
              "      cursor: pointer;\n",
              "      display: none;\n",
              "      fill: #1967D2;\n",
              "      height: 32px;\n",
              "      padding: 0 0 0 0;\n",
              "      width: 32px;\n",
              "    }\n",
              "\n",
              "    .colab-df-convert:hover {\n",
              "      background-color: #E2EBFA;\n",
              "      box-shadow: 0px 1px 2px rgba(60, 64, 67, 0.3), 0px 1px 3px 1px rgba(60, 64, 67, 0.15);\n",
              "      fill: #174EA6;\n",
              "    }\n",
              "\n",
              "    .colab-df-buttons div {\n",
              "      margin-bottom: 4px;\n",
              "    }\n",
              "\n",
              "    [theme=dark] .colab-df-convert {\n",
              "      background-color: #3B4455;\n",
              "      fill: #D2E3FC;\n",
              "    }\n",
              "\n",
              "    [theme=dark] .colab-df-convert:hover {\n",
              "      background-color: #434B5C;\n",
              "      box-shadow: 0px 1px 3px 1px rgba(0, 0, 0, 0.15);\n",
              "      filter: drop-shadow(0px 1px 2px rgba(0, 0, 0, 0.3));\n",
              "      fill: #FFFFFF;\n",
              "    }\n",
              "  </style>\n",
              "\n",
              "    <script>\n",
              "      const buttonEl =\n",
              "        document.querySelector('#df-d685c279-e24a-4d02-b2c1-bd9e2628b339 button.colab-df-convert');\n",
              "      buttonEl.style.display =\n",
              "        google.colab.kernel.accessAllowed ? 'block' : 'none';\n",
              "\n",
              "      async function convertToInteractive(key) {\n",
              "        const element = document.querySelector('#df-d685c279-e24a-4d02-b2c1-bd9e2628b339');\n",
              "        const dataTable =\n",
              "          await google.colab.kernel.invokeFunction('convertToInteractive',\n",
              "                                                    [key], {});\n",
              "        if (!dataTable) return;\n",
              "\n",
              "        const docLinkHtml = 'Like what you see? Visit the ' +\n",
              "          '<a target=\"_blank\" href=https://colab.research.google.com/notebooks/data_table.ipynb>data table notebook</a>'\n",
              "          + ' to learn more about interactive tables.';\n",
              "        element.innerHTML = '';\n",
              "        dataTable['output_type'] = 'display_data';\n",
              "        await google.colab.output.renderOutput(dataTable, element);\n",
              "        const docLink = document.createElement('div');\n",
              "        docLink.innerHTML = docLinkHtml;\n",
              "        element.appendChild(docLink);\n",
              "      }\n",
              "    </script>\n",
              "  </div>\n",
              "\n",
              "\n",
              "    <div id=\"df-d5b6f34e-fef6-4db4-85b5-ca6491fc1896\">\n",
              "      <button class=\"colab-df-quickchart\" onclick=\"quickchart('df-d5b6f34e-fef6-4db4-85b5-ca6491fc1896')\"\n",
              "                title=\"Suggest charts\"\n",
              "                style=\"display:none;\">\n",
              "\n",
              "<svg xmlns=\"http://www.w3.org/2000/svg\" height=\"24px\"viewBox=\"0 0 24 24\"\n",
              "     width=\"24px\">\n",
              "    <g>\n",
              "        <path d=\"M19 3H5c-1.1 0-2 .9-2 2v14c0 1.1.9 2 2 2h14c1.1 0 2-.9 2-2V5c0-1.1-.9-2-2-2zM9 17H7v-7h2v7zm4 0h-2V7h2v10zm4 0h-2v-4h2v4z\"/>\n",
              "    </g>\n",
              "</svg>\n",
              "      </button>\n",
              "\n",
              "<style>\n",
              "  .colab-df-quickchart {\n",
              "      --bg-color: #E8F0FE;\n",
              "      --fill-color: #1967D2;\n",
              "      --hover-bg-color: #E2EBFA;\n",
              "      --hover-fill-color: #174EA6;\n",
              "      --disabled-fill-color: #AAA;\n",
              "      --disabled-bg-color: #DDD;\n",
              "  }\n",
              "\n",
              "  [theme=dark] .colab-df-quickchart {\n",
              "      --bg-color: #3B4455;\n",
              "      --fill-color: #D2E3FC;\n",
              "      --hover-bg-color: #434B5C;\n",
              "      --hover-fill-color: #FFFFFF;\n",
              "      --disabled-bg-color: #3B4455;\n",
              "      --disabled-fill-color: #666;\n",
              "  }\n",
              "\n",
              "  .colab-df-quickchart {\n",
              "    background-color: var(--bg-color);\n",
              "    border: none;\n",
              "    border-radius: 50%;\n",
              "    cursor: pointer;\n",
              "    display: none;\n",
              "    fill: var(--fill-color);\n",
              "    height: 32px;\n",
              "    padding: 0;\n",
              "    width: 32px;\n",
              "  }\n",
              "\n",
              "  .colab-df-quickchart:hover {\n",
              "    background-color: var(--hover-bg-color);\n",
              "    box-shadow: 0 1px 2px rgba(60, 64, 67, 0.3), 0 1px 3px 1px rgba(60, 64, 67, 0.15);\n",
              "    fill: var(--button-hover-fill-color);\n",
              "  }\n",
              "\n",
              "  .colab-df-quickchart-complete:disabled,\n",
              "  .colab-df-quickchart-complete:disabled:hover {\n",
              "    background-color: var(--disabled-bg-color);\n",
              "    fill: var(--disabled-fill-color);\n",
              "    box-shadow: none;\n",
              "  }\n",
              "\n",
              "  .colab-df-spinner {\n",
              "    border: 2px solid var(--fill-color);\n",
              "    border-color: transparent;\n",
              "    border-bottom-color: var(--fill-color);\n",
              "    animation:\n",
              "      spin 1s steps(1) infinite;\n",
              "  }\n",
              "\n",
              "  @keyframes spin {\n",
              "    0% {\n",
              "      border-color: transparent;\n",
              "      border-bottom-color: var(--fill-color);\n",
              "      border-left-color: var(--fill-color);\n",
              "    }\n",
              "    20% {\n",
              "      border-color: transparent;\n",
              "      border-left-color: var(--fill-color);\n",
              "      border-top-color: var(--fill-color);\n",
              "    }\n",
              "    30% {\n",
              "      border-color: transparent;\n",
              "      border-left-color: var(--fill-color);\n",
              "      border-top-color: var(--fill-color);\n",
              "      border-right-color: var(--fill-color);\n",
              "    }\n",
              "    40% {\n",
              "      border-color: transparent;\n",
              "      border-right-color: var(--fill-color);\n",
              "      border-top-color: var(--fill-color);\n",
              "    }\n",
              "    60% {\n",
              "      border-color: transparent;\n",
              "      border-right-color: var(--fill-color);\n",
              "    }\n",
              "    80% {\n",
              "      border-color: transparent;\n",
              "      border-right-color: var(--fill-color);\n",
              "      border-bottom-color: var(--fill-color);\n",
              "    }\n",
              "    90% {\n",
              "      border-color: transparent;\n",
              "      border-bottom-color: var(--fill-color);\n",
              "    }\n",
              "  }\n",
              "</style>\n",
              "\n",
              "      <script>\n",
              "        async function quickchart(key) {\n",
              "          const quickchartButtonEl =\n",
              "            document.querySelector('#' + key + ' button');\n",
              "          quickchartButtonEl.disabled = true;  // To prevent multiple clicks.\n",
              "          quickchartButtonEl.classList.add('colab-df-spinner');\n",
              "          try {\n",
              "            const charts = await google.colab.kernel.invokeFunction(\n",
              "                'suggestCharts', [key], {});\n",
              "          } catch (error) {\n",
              "            console.error('Error during call to suggestCharts:', error);\n",
              "          }\n",
              "          quickchartButtonEl.classList.remove('colab-df-spinner');\n",
              "          quickchartButtonEl.classList.add('colab-df-quickchart-complete');\n",
              "        }\n",
              "        (() => {\n",
              "          let quickchartButtonEl =\n",
              "            document.querySelector('#df-d5b6f34e-fef6-4db4-85b5-ca6491fc1896 button');\n",
              "          quickchartButtonEl.style.display =\n",
              "            google.colab.kernel.accessAllowed ? 'block' : 'none';\n",
              "        })();\n",
              "      </script>\n",
              "    </div>\n",
              "\n",
              "    </div>\n",
              "  </div>\n"
            ],
            "application/vnd.google.colaboratory.intrinsic+json": {
              "type": "dataframe",
              "variable_name": "loja",
              "summary": "{\n  \"name\": \"loja\",\n  \"rows\": 2359,\n  \"fields\": [\n    {\n      \"column\": \"Produto\",\n      \"properties\": {\n        \"dtype\": \"category\",\n        \"num_unique_values\": 51,\n        \"samples\": [\n          \"Viol\\u00e3o\",\n          \"Bola de basquete\",\n          \"Smartwatch\"\n        ],\n        \"semantic_type\": \"\",\n        \"description\": \"\"\n      }\n    },\n    {\n      \"column\": \"Categoria do Produto\",\n      \"properties\": {\n        \"dtype\": \"category\",\n        \"num_unique_values\": 8,\n        \"samples\": [\n          \"moveis\",\n          \"esporte e lazer\",\n          \"eletronicos\"\n        ],\n        \"semantic_type\": \"\",\n        \"description\": \"\"\n      }\n    },\n    {\n      \"column\": \"Pre\\u00e7o\",\n      \"properties\": {\n        \"dtype\": \"number\",\n        \"std\": 819.5827782539145,\n        \"min\": 10.07,\n        \"max\": 3969.38,\n        \"num_unique_values\": 2315,\n        \"samples\": [\n          446.11,\n          107.31,\n          65.86\n        ],\n        \"semantic_type\": \"\",\n        \"description\": \"\"\n      }\n    },\n    {\n      \"column\": \"Frete\",\n      \"properties\": {\n        \"dtype\": \"number\",\n        \"std\": 43.814183327408166,\n        \"min\": 0.0,\n        \"max\": 214.3770604781,\n        \"num_unique_values\": 2149,\n        \"samples\": [\n          83.815279607,\n          16.069664669,\n          14.0344876928\n        ],\n        \"semantic_type\": \"\",\n        \"description\": \"\"\n      }\n    },\n    {\n      \"column\": \"Data da Compra\",\n      \"properties\": {\n        \"dtype\": \"object\",\n        \"num_unique_values\": 1018,\n        \"samples\": [\n          \"15/09/2022\",\n          \"03/06/2020\",\n          \"06/11/2021\"\n        ],\n        \"semantic_type\": \"\",\n        \"description\": \"\"\n      }\n    },\n    {\n      \"column\": \"Vendedor\",\n      \"properties\": {\n        \"dtype\": \"category\",\n        \"num_unique_values\": 14,\n        \"samples\": [\n          \"Juliana Costa\",\n          \"Mariana Ferreira\",\n          \"Pedro Gomes\"\n        ],\n        \"semantic_type\": \"\",\n        \"description\": \"\"\n      }\n    },\n    {\n      \"column\": \"Local da compra\",\n      \"properties\": {\n        \"dtype\": \"category\",\n        \"num_unique_values\": 26,\n        \"samples\": [\n          \"TO\",\n          \"RN\",\n          \"SP\"\n        ],\n        \"semantic_type\": \"\",\n        \"description\": \"\"\n      }\n    },\n    {\n      \"column\": \"Avalia\\u00e7\\u00e3o da compra\",\n      \"properties\": {\n        \"dtype\": \"number\",\n        \"std\": 1,\n        \"min\": 1,\n        \"max\": 5,\n        \"num_unique_values\": 5,\n        \"samples\": [\n          1,\n          2,\n          5\n        ],\n        \"semantic_type\": \"\",\n        \"description\": \"\"\n      }\n    },\n    {\n      \"column\": \"Tipo de pagamento\",\n      \"properties\": {\n        \"dtype\": \"category\",\n        \"num_unique_values\": 4,\n        \"samples\": [\n          \"boleto\",\n          \"cartao_debito\",\n          \"cartao_credito\"\n        ],\n        \"semantic_type\": \"\",\n        \"description\": \"\"\n      }\n    },\n    {\n      \"column\": \"Quantidade de parcelas\",\n      \"properties\": {\n        \"dtype\": \"number\",\n        \"std\": 2,\n        \"min\": 1,\n        \"max\": 24,\n        \"num_unique_values\": 15,\n        \"samples\": [\n          7,\n          14,\n          8\n        ],\n        \"semantic_type\": \"\",\n        \"description\": \"\"\n      }\n    },\n    {\n      \"column\": \"lat\",\n      \"properties\": {\n        \"dtype\": \"number\",\n        \"std\": 5.372399916530833,\n        \"min\": -30.17,\n        \"max\": 1.41,\n        \"num_unique_values\": 26,\n        \"samples\": [\n          -9.46,\n          -5.81,\n          -22.19\n        ],\n        \"semantic_type\": \"\",\n        \"description\": \"\"\n      }\n    },\n    {\n      \"column\": \"lon\",\n      \"properties\": {\n        \"dtype\": \"number\",\n        \"std\": 4.183180020544179,\n        \"min\": -70.55,\n        \"max\": -36.59,\n        \"num_unique_values\": 26,\n        \"samples\": [\n          -48.26,\n          -36.59,\n          -48.79\n        ],\n        \"semantic_type\": \"\",\n        \"description\": \"\"\n      }\n    }\n  ]\n}"
            }
          },
          "metadata": {},
          "execution_count": 6
        }
      ],
      "source": [
        "import pandas as pd\n",
        "\n",
        "url = \"https://raw.githubusercontent.com/alura-es-cursos/challenge1-data-science/refs/heads/main/base-de-dados-challenge-1/loja_1.csv\"\n",
        "url2 = \"https://raw.githubusercontent.com/alura-es-cursos/challenge1-data-science/refs/heads/main/base-de-dados-challenge-1/loja_2.csv\"\n",
        "url3 = \"https://raw.githubusercontent.com/alura-es-cursos/challenge1-data-science/refs/heads/main/base-de-dados-challenge-1/loja_3.csv\"\n",
        "url4 = \"https://raw.githubusercontent.com/alura-es-cursos/challenge1-data-science/refs/heads/main/base-de-dados-challenge-1/loja_4.csv\"\n",
        "\n",
        "loja = pd.read_csv(url)\n",
        "loja2 = pd.read_csv(url2)\n",
        "loja3 = pd.read_csv(url3)\n",
        "loja4 = pd.read_csv(url4)\n",
        "\n",
        "loja.head()"
      ]
    },
    {
      "cell_type": "markdown",
      "source": [
        "#1. Análise do faturamento\n"
      ],
      "metadata": {
        "id": "X62IW3KFUIYm"
      }
    },
    {
      "cell_type": "code",
      "source": [
        "# Calculando o faturamento total de cada loja\n",
        "faturamento1 = loja[\"Preço\"].sum()\n",
        "faturamento2 = loja2[\"Preço\"].sum()\n",
        "faturamento3 = loja3[\"Preço\"].sum()\n",
        "faturamento4 = loja4[\"Preço\"].sum()\n",
        "\n",
        "# Mostrando o resultado\n",
        "print(\"Faturamento Loja 1: R$\", round(faturamento1, 2))\n",
        "print(\"Faturamento Loja 2: R$\", round(faturamento2, 2))\n",
        "print(\"Faturamento Loja 3: R$\", round(faturamento3, 2))\n",
        "print(\"Faturamento Loja 4: R$\", round(faturamento4, 2))\n",
        "\n"
      ],
      "metadata": {
        "id": "xykobSftV64I",
        "colab": {
          "base_uri": "https://localhost:8080/"
        },
        "outputId": "7685925c-9a0a-4d4c-89ea-3b21681efa00"
      },
      "execution_count": 7,
      "outputs": [
        {
          "output_type": "stream",
          "name": "stdout",
          "text": [
            "Faturamento Loja 1: R$ 1534509.12\n",
            "Faturamento Loja 2: R$ 1488459.06\n",
            "Faturamento Loja 3: R$ 1464025.03\n",
            "Faturamento Loja 4: R$ 1384497.58\n"
          ]
        }
      ]
    },
    {
      "cell_type": "code",
      "source": [],
      "metadata": {
        "id": "KDyr8E71V3m-"
      },
      "execution_count": null,
      "outputs": []
    },
    {
      "cell_type": "markdown",
      "source": [
        "# 2. Vendas por Categoria\n"
      ],
      "metadata": {
        "id": "2V_vcAPzWZmR"
      }
    },
    {
      "cell_type": "code",
      "source": [
        "loja.columns\n"
      ],
      "metadata": {
        "id": "A34YupIuYhfF",
        "colab": {
          "base_uri": "https://localhost:8080/"
        },
        "outputId": "9e7b8927-3cbf-406e-88fa-4cef32bbbfcd"
      },
      "execution_count": 10,
      "outputs": [
        {
          "output_type": "execute_result",
          "data": {
            "text/plain": [
              "Index(['Produto', 'Categoria do Produto', 'Preço', 'Frete', 'Data da Compra',\n",
              "       'Vendedor', 'Local da compra', 'Avaliação da compra',\n",
              "       'Tipo de pagamento', 'Quantidade de parcelas', 'lat', 'lon'],\n",
              "      dtype='object')"
            ]
          },
          "metadata": {},
          "execution_count": 10
        }
      ]
    },
    {
      "cell_type": "code",
      "source": [
        "loja['Categoria do Produto'].value_counts()\n",
        "# Conta quantas vezes cada categoria apareceu na loja1\n",
        "categorias_vendas = loja[\"Categoria do Produto\"].value_counts()\n",
        "\n",
        "# Categoria mais vendida\n",
        "mais_vendida = categorias_vendas.idxmax()\n",
        "\n",
        "# Quantidade de vendas da categoria mais vendida\n",
        "quantidade = categorias_vendas.max()\n",
        "\n",
        "print(f\"Loja - Categoria mais vendida: {mais_vendida} com {quantidade} vendas\")\n"
      ],
      "metadata": {
        "id": "yZR6cOjXYSk1",
        "colab": {
          "base_uri": "https://localhost:8080/"
        },
        "outputId": "5bbf9157-cac1-4caa-bd1d-b673f6280ef8"
      },
      "execution_count": 42,
      "outputs": [
        {
          "output_type": "stream",
          "name": "stdout",
          "text": [
            "Loja - Categoria mais vendida: moveis com 465 vendas\n"
          ]
        }
      ]
    },
    {
      "cell_type": "code",
      "source": [
        "loja2.columns\n"
      ],
      "metadata": {
        "colab": {
          "base_uri": "https://localhost:8080/"
        },
        "id": "V6p13lQRV90C",
        "outputId": "02997593-a91e-4687-b3af-55ea1ce79f1a"
      },
      "execution_count": 15,
      "outputs": [
        {
          "output_type": "execute_result",
          "data": {
            "text/plain": [
              "Index(['Produto', 'Categoria do Produto', 'Preço', 'Frete', 'Data da Compra',\n",
              "       'Vendedor', 'Local da compra', 'Avaliação da compra',\n",
              "       'Tipo de pagamento', 'Quantidade de parcelas', 'lat', 'lon'],\n",
              "      dtype='object')"
            ]
          },
          "metadata": {},
          "execution_count": 15
        }
      ]
    },
    {
      "cell_type": "code",
      "source": [
        "loja2[\"Categoria do Produto\"].value_counts()\n",
        "# Conta quantas vezes cada categoria apareceu na loja1\n",
        "categorias_vendas = loja2[\"Categoria do Produto\"].value_counts()\n",
        "\n",
        "# Categoria mais vendida\n",
        "mais_vendida = categorias_vendas.idxmax()\n",
        "\n",
        "# Quantidade de vendas da categoria mais vendida\n",
        "quantidade = categorias_vendas.max()\n",
        "\n",
        "print(f\"Loja 2 - Categoria mais vendida: {mais_vendida} com {quantidade} vendas\")\n"
      ],
      "metadata": {
        "colab": {
          "base_uri": "https://localhost:8080/"
        },
        "id": "N1oG9AOCWJEc",
        "outputId": "88fa5b19-788b-4fd1-872c-ffe8efb2ecec"
      },
      "execution_count": 44,
      "outputs": [
        {
          "output_type": "stream",
          "name": "stdout",
          "text": [
            "Loja 2 - Categoria mais vendida: moveis com 442 vendas\n"
          ]
        }
      ]
    },
    {
      "cell_type": "code",
      "source": [
        "loja3.columns\n"
      ],
      "metadata": {
        "colab": {
          "base_uri": "https://localhost:8080/"
        },
        "id": "rA4qma5CWQd3",
        "outputId": "8d44da83-3439-4060-ac41-b345047fee37"
      },
      "execution_count": 17,
      "outputs": [
        {
          "output_type": "execute_result",
          "data": {
            "text/plain": [
              "Index(['Produto', 'Categoria do Produto', 'Preço', 'Frete', 'Data da Compra',\n",
              "       'Vendedor', 'Local da compra', 'Avaliação da compra',\n",
              "       'Tipo de pagamento', 'Quantidade de parcelas', 'lat', 'lon'],\n",
              "      dtype='object')"
            ]
          },
          "metadata": {},
          "execution_count": 17
        }
      ]
    },
    {
      "cell_type": "code",
      "source": [
        "loja3[\"Categoria do Produto\"].value_counts()\n",
        "# Conta quantas vezes cada categoria apareceu na loja1\n",
        "categorias_vendas = loja3[\"Categoria do Produto\"].value_counts()\n",
        "\n",
        "# Categoria mais vendida\n",
        "mais_vendida = categorias_vendas.idxmax()\n",
        "\n",
        "# Quantidade de vendas da categoria mais vendida\n",
        "quantidade = categorias_vendas.max()\n",
        "\n",
        "print(f\"Loja 3 - Categoria mais vendida: {mais_vendida} com {quantidade} vendas\")\n"
      ],
      "metadata": {
        "colab": {
          "base_uri": "https://localhost:8080/"
        },
        "id": "AERLi_jcWeEY",
        "outputId": "e00c5405-ea23-4d32-ecc0-86fcf007a86b"
      },
      "execution_count": 45,
      "outputs": [
        {
          "output_type": "stream",
          "name": "stdout",
          "text": [
            "Loja 3 - Categoria mais vendida: moveis com 499 vendas\n"
          ]
        }
      ]
    },
    {
      "cell_type": "code",
      "source": [
        "loja4.columns\n"
      ],
      "metadata": {
        "colab": {
          "base_uri": "https://localhost:8080/"
        },
        "id": "QdBeYDc0WnZ0",
        "outputId": "03c7f6e4-9537-4870-eec4-186ac8667942"
      },
      "execution_count": 19,
      "outputs": [
        {
          "output_type": "execute_result",
          "data": {
            "text/plain": [
              "Index(['Produto', 'Categoria do Produto', 'Preço', 'Frete', 'Data da Compra',\n",
              "       'Vendedor', 'Local da compra', 'Avaliação da compra',\n",
              "       'Tipo de pagamento', 'Quantidade de parcelas', 'lat', 'lon'],\n",
              "      dtype='object')"
            ]
          },
          "metadata": {},
          "execution_count": 19
        }
      ]
    },
    {
      "cell_type": "code",
      "source": [
        "loja4[\"Categoria do Produto\"].value_counts()\n",
        "# Conta quantas vezes cada categoria apareceu na loja1\n",
        "categorias_vendas = loja4[\"Categoria do Produto\"].value_counts()\n",
        "\n",
        "# Categoria mais vendida\n",
        "mais_vendida = categorias_vendas.idxmax()\n",
        "\n",
        "# Quantidade de vendas da categoria mais vendida\n",
        "quantidade = categorias_vendas.max()\n",
        "\n",
        "print(f\"Loja 4 - Categoria mais vendida: {mais_vendida} com {quantidade} vendas\")\n"
      ],
      "metadata": {
        "colab": {
          "base_uri": "https://localhost:8080/"
        },
        "id": "SE-7WnSOWtCl",
        "outputId": "fcfc37ef-3f2b-4ca4-ebd6-8b444f097264"
      },
      "execution_count": 46,
      "outputs": [
        {
          "output_type": "stream",
          "name": "stdout",
          "text": [
            "Loja 4 - Categoria mais vendida: moveis com 480 vendas\n"
          ]
        }
      ]
    },
    {
      "cell_type": "markdown",
      "source": [
        "# 3. Média de Avaliação das Lojas"
      ],
      "metadata": {
        "id": "Rq6tU_xSY3jk"
      }
    },
    {
      "cell_type": "code",
      "source": [
        "loja[\"Avaliação da compra\"].mean()\n",
        "\n"
      ],
      "metadata": {
        "colab": {
          "base_uri": "https://localhost:8080/"
        },
        "id": "SXhWir4KWPO0",
        "outputId": "5c20a306-5302-41f2-b46c-77035a139496"
      },
      "execution_count": 22,
      "outputs": [
        {
          "output_type": "execute_result",
          "data": {
            "text/plain": [
              "np.float64(3.976685036032217)"
            ]
          },
          "metadata": {},
          "execution_count": 22
        }
      ]
    },
    {
      "cell_type": "code",
      "source": [
        "loja2[\"Avaliação da compra\"].mean()\n"
      ],
      "metadata": {
        "id": "bh3jjjJwY5MU",
        "colab": {
          "base_uri": "https://localhost:8080/"
        },
        "outputId": "8378e527-9d5d-44b0-c23e-b62cf1e16aa4"
      },
      "execution_count": 23,
      "outputs": [
        {
          "output_type": "execute_result",
          "data": {
            "text/plain": [
              "np.float64(4.037303942348453)"
            ]
          },
          "metadata": {},
          "execution_count": 23
        }
      ]
    },
    {
      "cell_type": "code",
      "source": [
        "loja3[\"Avaliação da compra\"].mean()\n"
      ],
      "metadata": {
        "id": "I0KkjPoTY88F",
        "colab": {
          "base_uri": "https://localhost:8080/"
        },
        "outputId": "8c526ef2-24b5-42b6-8119-797059baac47"
      },
      "execution_count": 24,
      "outputs": [
        {
          "output_type": "execute_result",
          "data": {
            "text/plain": [
              "np.float64(4.048325561678677)"
            ]
          },
          "metadata": {},
          "execution_count": 24
        }
      ]
    },
    {
      "cell_type": "code",
      "source": [
        "loja4[\"Avaliação da compra\"].mean()\n"
      ],
      "metadata": {
        "colab": {
          "base_uri": "https://localhost:8080/"
        },
        "id": "U8v-JOTJWHrg",
        "outputId": "674838be-6cd1-48ce-d91e-f08a2e822293"
      },
      "execution_count": 25,
      "outputs": [
        {
          "output_type": "execute_result",
          "data": {
            "text/plain": [
              "np.float64(3.9957591178965224)"
            ]
          },
          "metadata": {},
          "execution_count": 25
        }
      ]
    },
    {
      "cell_type": "markdown",
      "source": [
        "# 4. Produtos Mais e Menos Vendidos"
      ],
      "metadata": {
        "id": "DmNp1KPBZCm-"
      }
    },
    {
      "cell_type": "code",
      "source": [
        "vendas_produtos = loja[\"Produto\"].value_counts()\n",
        "print(vendas_produtos)\n"
      ],
      "metadata": {
        "id": "qoyjqijQZHfF",
        "colab": {
          "base_uri": "https://localhost:8080/"
        },
        "outputId": "00865cce-1cee-4f9b-be3a-1b9d88d104fe"
      },
      "execution_count": 26,
      "outputs": [
        {
          "output_type": "stream",
          "name": "stdout",
          "text": [
            "Produto\n",
            "Micro-ondas                    60\n",
            "TV Led UHD 4K                  60\n",
            "Guarda roupas                  60\n",
            "Secadora de roupas             58\n",
            "Cômoda                         56\n",
            "Blocos de montar               56\n",
            "Bola de basquete               55\n",
            "Bicicleta                      54\n",
            "Copo térmico                   54\n",
            "Geladeira                      54\n",
            "Impressora                     54\n",
            "Bateria                        53\n",
            "Faqueiro                       52\n",
            "Carrinho controle remoto       52\n",
            "Modelagem preditiva            51\n",
            "Fone de ouvido                 50\n",
            "Xadrez de madeira              49\n",
            "Celular Plus X42               49\n",
            "Lava louças                    48\n",
            "Lavadora de roupas             47\n",
            "Guitarra                       47\n",
            "Violão                         46\n",
            "Sofá retrátil                  46\n",
            "Cadeira de escritório          46\n",
            "Fogão                          45\n",
            "Cama box                       44\n",
            "Kit banquetas                  44\n",
            "Smart TV                       44\n",
            "Cama king                      44\n",
            "Cubo mágico 8x8                44\n",
            "Mesa de centro                 44\n",
            "Jogo de panelas                43\n",
            "Smartwatch                     43\n",
            "Jogo de tabuleiro              43\n",
            "Bola de vôlei                  42\n",
            "Dashboards com Power BI        42\n",
            "Tablet ABXY                    42\n",
            "Poltrona                       41\n",
            "Iniciando em programação       41\n",
            "Jogo de copos                  41\n",
            "Assistente virtual             40\n",
            "Boneca bebê                    40\n",
            "Mesa de jantar                 40\n",
            "Dinossauro Rex                 40\n",
            "Corda de pular                 40\n",
            "Mochila                        39\n",
            "Ciência de dados com python    39\n",
            "Pandeiro                       36\n",
            "Panela de pressão              35\n",
            "Headset                        33\n",
            "Celular ABXY                   33\n",
            "Name: count, dtype: int64\n"
          ]
        }
      ]
    },
    {
      "cell_type": "code",
      "source": [
        "vendas_produtos = loja4[\"Produto\"].value_counts()\n",
        "print(vendas_produtos)\n"
      ],
      "metadata": {
        "colab": {
          "base_uri": "https://localhost:8080/"
        },
        "id": "W2Ds5q3vYGJC",
        "outputId": "43e17416-9fcf-4f27-b7cf-c3eeea5ef189"
      },
      "execution_count": 29,
      "outputs": [
        {
          "output_type": "stream",
          "name": "stdout",
          "text": [
            "Produto\n",
            "Cama box                       62\n",
            "Faqueiro                       59\n",
            "Dashboards com Power BI        56\n",
            "Cama king                      56\n",
            "Carrinho controle remoto       55\n",
            "Mesa de jantar                 55\n",
            "Cômoda                         55\n",
            "Smart TV                       54\n",
            "Blocos de montar               54\n",
            "Pandeiro                       52\n",
            "Impressora                     50\n",
            "Modelagem preditiva            50\n",
            "Assistente virtual             50\n",
            "Jogo de panelas                50\n",
            "Bola de basquete               50\n",
            "Copo térmico                   48\n",
            "Celular Plus X42               48\n",
            "Boneca bebê                    48\n",
            "Bateria                        48\n",
            "Bola de vôlei                  48\n",
            "Jogo de tabuleiro              48\n",
            "Micro-ondas                    48\n",
            "Fogão                          47\n",
            "Cubo mágico 8x8                47\n",
            "Sofá retrátil                  47\n",
            "Dinossauro Rex                 47\n",
            "Panela de pressão              46\n",
            "Jogo de copos                  46\n",
            "Tablet ABXY                    45\n",
            "Poltrona                       45\n",
            "Bicicleta                      45\n",
            "Mesa de centro                 44\n",
            "Fone de ouvido                 44\n",
            "Lava louças                    43\n",
            "Corda de pular                 43\n",
            "Iniciando em programação       43\n",
            "Mochila                        43\n",
            "Headset                        42\n",
            "Kit banquetas                  42\n",
            "TV Led UHD 4K                  40\n",
            "Secadora de roupas             40\n",
            "Cadeira de escritório          40\n",
            "Celular ABXY                   39\n",
            "Xadrez de madeira              39\n",
            "Smartwatch                     39\n",
            "Lavadora de roupas             38\n",
            "Geladeira                      38\n",
            "Ciência de dados com python    38\n",
            "Violão                         37\n",
            "Guarda roupas                  34\n",
            "Guitarra                       33\n",
            "Name: count, dtype: int64\n"
          ]
        }
      ]
    },
    {
      "cell_type": "code",
      "source": [
        "vendas_produtos = loja3[\"Produto\"].value_counts()\n",
        "print(vendas_produtos)\n"
      ],
      "metadata": {
        "colab": {
          "base_uri": "https://localhost:8080/"
        },
        "id": "wlM51Ki-YAUc",
        "outputId": "4a4486bd-2ee0-4ae4-bca5-6011bd607f40"
      },
      "execution_count": 28,
      "outputs": [
        {
          "output_type": "stream",
          "name": "stdout",
          "text": [
            "Produto\n",
            "Kit banquetas                  57\n",
            "Mesa de jantar                 56\n",
            "Cama king                      56\n",
            "Jogo de panelas                55\n",
            "Cômoda                         55\n",
            "Smart TV                       54\n",
            "Fogão                          53\n",
            "Corda de pular                 53\n",
            "Modelagem preditiva            53\n",
            "Carrinho controle remoto       52\n",
            "Lava louças                    52\n",
            "Bicicleta                      52\n",
            "Jogo de tabuleiro              52\n",
            "Pandeiro                       51\n",
            "Impressora                     50\n",
            "Geladeira                      50\n",
            "Bola de basquete               50\n",
            "Guarda roupas                  49\n",
            "Bola de vôlei                  48\n",
            "Tablet ABXY                    48\n",
            "Poltrona                       47\n",
            "Violão                         47\n",
            "Panela de pressão              47\n",
            "Xadrez de madeira              47\n",
            "Ciência de dados com python    46\n",
            "Celular Plus X42               46\n",
            "Dinossauro Rex                 46\n",
            "Cadeira de escritório          46\n",
            "Smartwatch                     46\n",
            "Cama box                       46\n",
            "Iniciando em programação       46\n",
            "Secadora de roupas             45\n",
            "Sofá retrátil                  45\n",
            "Celular ABXY                   44\n",
            "Cubo mágico 8x8                44\n",
            "Fone de ouvido                 43\n",
            "TV Led UHD 4K                  42\n",
            "Mesa de centro                 42\n",
            "Lavadora de roupas             42\n",
            "Bateria                        41\n",
            "Dashboards com Power BI        40\n",
            "Faqueiro                       39\n",
            "Boneca bebê                    39\n",
            "Headset                        39\n",
            "Assistente virtual             39\n",
            "Copo térmico                   38\n",
            "Guitarra                       38\n",
            "Jogo de copos                  36\n",
            "Mochila                        36\n",
            "Micro-ondas                    36\n",
            "Blocos de montar               35\n",
            "Name: count, dtype: int64\n"
          ]
        }
      ]
    },
    {
      "cell_type": "code",
      "source": [
        "vendas_produtos = loja2[\"Produto\"].value_counts()\n",
        "print(vendas_produtos)\n"
      ],
      "metadata": {
        "id": "0Sw3sd4IZIGW",
        "colab": {
          "base_uri": "https://localhost:8080/"
        },
        "outputId": "f6611550-717b-4945-8e7e-b54b5ec59496"
      },
      "execution_count": 27,
      "outputs": [
        {
          "output_type": "stream",
          "name": "stdout",
          "text": [
            "Produto\n",
            "Iniciando em programação       65\n",
            "Micro-ondas                    62\n",
            "Bateria                        61\n",
            "Violão                         58\n",
            "Pandeiro                       58\n",
            "Secadora de roupas             57\n",
            "Celular Plus X42               55\n",
            "Blocos de montar               54\n",
            "Guarda roupas                  54\n",
            "Jogo de panelas                52\n",
            "Corda de pular                 50\n",
            "Lavadora de roupas             49\n",
            "Cadeira de escritório          49\n",
            "Geladeira                      49\n",
            "Boneca bebê                    48\n",
            "Carrinho controle remoto       47\n",
            "Guitarra                       47\n",
            "Cama box                       47\n",
            "Copo térmico                   47\n",
            "Modelagem preditiva            46\n",
            "Bola de vôlei                  46\n",
            "Jogo de copos                  46\n",
            "Lava louças                    46\n",
            "Kit banquetas                  45\n",
            "Cama king                      45\n",
            "Bicicleta                      45\n",
            "Mochila                        45\n",
            "Cubo mágico 8x8                45\n",
            "Xadrez de madeira              45\n",
            "Mesa de centro                 45\n",
            "TV Led UHD 4K                  45\n",
            "Tablet ABXY                    44\n",
            "Smartwatch                     44\n",
            "Cômoda                         44\n",
            "Panela de pressão              44\n",
            "Headset                        44\n",
            "Sofá retrátil                  44\n",
            "Dashboards com Power BI        43\n",
            "Ciência de dados com python    43\n",
            "Bola de basquete               42\n",
            "Fogão                          42\n",
            "Dinossauro Rex                 42\n",
            "Celular ABXY                   41\n",
            "Smart TV                       40\n",
            "Faqueiro                       39\n",
            "Assistente virtual             38\n",
            "Fone de ouvido                 37\n",
            "Poltrona                       35\n",
            "Mesa de jantar                 34\n",
            "Impressora                     34\n",
            "Jogo de tabuleiro              32\n",
            "Name: count, dtype: int64\n"
          ]
        }
      ]
    },
    {
      "cell_type": "markdown",
      "source": [
        "# 5. Frete Médio por Loja\n"
      ],
      "metadata": {
        "id": "Fl0cGi3bZKqU"
      }
    },
    {
      "cell_type": "code",
      "source": [
        "media_frete1 = loja[\"Frete\"].mean()\n",
        "media_frete2 = loja2[\"Frete\"].mean()\n",
        "media_frete3 = loja3[\"Frete\"].mean()\n",
        "media_frete4 = loja4[\"Frete\"].mean()\n",
        "\n",
        "print(\"Média do frete Loja: R$\", round(media_frete1, 2))\n",
        "print(\"Média do frete Loja 2: R$\", round(media_frete2, 2))\n",
        "print(\"Média do frete Loja 3: R$\", round(media_frete3, 2))\n",
        "print(\"Média do frete Loja 4: R$\", round(media_frete4, 2))\n"
      ],
      "metadata": {
        "id": "S2JeaCykZNy9",
        "colab": {
          "base_uri": "https://localhost:8080/"
        },
        "outputId": "6cf8fcdb-ceb4-4929-8b7a-d028be402180"
      },
      "execution_count": 30,
      "outputs": [
        {
          "output_type": "stream",
          "name": "stdout",
          "text": [
            "Média do frete Loja: R$ 34.69\n",
            "Média do frete Loja 2: R$ 33.62\n",
            "Média do frete Loja 3: R$ 33.07\n",
            "Média do frete Loja 4: R$ 31.28\n"
          ]
        }
      ]
    },
    {
      "cell_type": "code",
      "source": [
        "import matplotlib.pyplot as plt\n",
        "\n",
        "faturamentos = [faturamento1, faturamento2, faturamento3, faturamento4]\n",
        "lojas = [\"Loja\", \"Loja 2\", \"Loja 3\", \"Loja 4\"]\n",
        "\n",
        "plt.bar(lojas, faturamentos, color='skyblue')\n",
        "plt.title(\"Faturamento Total por Loja\")\n",
        "plt.ylabel(\"Faturamento (R$)\")\n",
        "plt.show()\n"
      ],
      "metadata": {
        "id": "0tSdCie9ZQlt",
        "colab": {
          "base_uri": "https://localhost:8080/",
          "height": 452
        },
        "outputId": "53e24a4a-712f-425e-b5de-9687612aba8d"
      },
      "execution_count": 31,
      "outputs": [
        {
          "output_type": "display_data",
          "data": {
            "text/plain": [
              "<Figure size 640x480 with 1 Axes>"
            ],
            "image/png": "[encoded data removed]"
          },
          "metadata": {}
        }
      ]
    },
    {
      "cell_type": "code",
      "source": [
        "categorias = loja[\"Categoria do Produto\"].value_counts()\n",
        "categorias.plot.pie(autopct='%1.1f%%', startangle=90, figsize=(6,6))\n",
        "plt.title(\"Distribuição das Categorias na Loja 1\")\n",
        "plt.ylabel(\"\")  # tira o label do eixo y\n",
        "plt.show()\n"
      ],
      "metadata": {
        "colab": {
          "base_uri": "https://localhost:8080/",
          "height": 521
        },
        "id": "uN_GLITvZSQa",
        "outputId": "8207ff06-1267-4aca-e3ee-d56e5ca34236"
      },
      "execution_count": 32,
      "outputs": [
        {
          "output_type": "display_data",
          "data": {
            "text/plain": [
              "<Figure size 600x600 with 1 Axes>"
            ],
            "image/png": "[encoded data removed]"
          },
          "metadata": {}
        }
      ]
    },
    {
      "cell_type": "code",
      "source": [
        "media1 = loja[\"Avaliação da compra\"].mean()\n",
        "media2 = loja2[\"Avaliação da compra\"].mean()\n",
        "media3 = loja3[\"Avaliação da compra\"].mean()\n",
        "media4 = loja4[\"Avaliação da compra\"].mean()\n",
        "\n",
        "print(\"Média de avaliação da Loja 1:\", round(media1, 2))\n",
        "print(\"Média de avaliação da Loja 2:\", round(media2, 2))\n",
        "print(\"Média de avaliação da Loja 3:\", round(media3, 2))\n",
        "print(\"Média de avaliação da Loja 4:\", round(media4, 2))\n"
      ],
      "metadata": {
        "colab": {
          "base_uri": "https://localhost:8080/"
        },
        "id": "MuvkllRYZfn6",
        "outputId": "c77d9c31-3607-4a21-8ea1-289b10251b3b"
      },
      "execution_count": 39,
      "outputs": [
        {
          "output_type": "stream",
          "name": "stdout",
          "text": [
            "Média de avaliação da Loja 1: 3.98\n",
            "Média de avaliação da Loja 2: 4.04\n",
            "Média de avaliação da Loja 3: 4.05\n",
            "Média de avaliação da Loja 4: 4.0\n"
          ]
        }
      ]
    },
    {
      "cell_type": "code",
      "source": [
        "avaliacoes = [media1, media2, media3, media4]\n",
        "\n",
        "plt.plot(lojas, avaliacoes, marker='o', linestyle='-', color='green')\n",
        "plt.title(\"Média das Avaliações por Loja\")\n",
        "plt.ylabel(\"Avaliação Média\")\n",
        "plt.ylim(0,5)\n",
        "plt.show()\n"
      ],
      "metadata": {
        "colab": {
          "base_uri": "https://localhost:8080/",
          "height": 453
        },
        "id": "QWXk8MKnaaj5",
        "outputId": "939ad25f-c6fc-49a0-ecbe-8111c65397b9"
      },
      "execution_count": 40,
      "outputs": [
        {
          "output_type": "display_data",
          "data": {
            "text/plain": [
              "<Figure size 640x480 with 1 Axes>"
            ],
            "image/png": "[encoded data removed]"
          },
          "metadata": {}
        }
      ]
    },
    {
      "cell_type": "markdown",
      "source": [
        "# Relatório Final - Análise das Lojas da Alura Store\n",
        "\n",
        "## Introdução\n",
        "\n",
        "Este relatório apresenta uma análise detalhada das quatro lojas da rede Alura Store. O objetivo é identificar qual loja apresenta o pior desempenho considerando faturamento, categorias mais vendidas, avaliações dos clientes e custo de frete, para que o Senhor João possa decidir qual loja vender.\n",
        "\n",
        "## Desenvolvimento\n",
        "\n",
        "### Faturamento Total\n",
        "\n",
        "Os faturamentos totais das lojas foram:\n",
        "\n",
        "- Loja 1: R$ 1.534.509,12  \n",
        "- Loja 2: R$ 1.488.459,06  \n",
        "- Loja 3: R$ 1.464.025,03  \n",
        "- Loja 4: R$ 1.384.497,58  \n",
        "\n",
        "![image.png](data:image/png;base64,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)\n",
        "\n",
        "### Categorias de Produtos\n",
        "\n",
        "Analisando as categorias mais vendidas em cada loja, a categoria **móveis** se destaca com o maior número de vendas:\n",
        "\n",
        "- Loja 1: móveis com 465 vendas  \n",
        "- Loja 2: móveis com 442 vendas  \n",
        "- Loja 3: móveis com 499 vendas  \n",
        "- Loja 4: móveis com 480 vendas  \n",
        "\n",
        "### Média das Avaliações dos Clientes\n",
        "\n",
        "A média das avaliações dos clientes em cada loja foi:\n",
        "\n",
        "- Loja 1: 3,98  \n",
        "- Loja 2: 4,04  \n",
        "- Loja 3: 4,05  \n",
        "- Loja 4: 4,00  \n",
        "\n",
        "![image.png](data:image/png;base64,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)\n",
        "\n",
        "### Custo Médio de Frete\n",
        "\n",
        "O custo médio de frete por loja foi:\n",
        "\n",
        "- Loja 1: R$ 34,69  \n",
        "- Loja 2: R$ 33,62  \n",
        "- Loja 3: R$ 33,07  \n",
        "- Loja 4: R$ 31,28  \n",
        "\n",
        "## Conclusão e Recomendação\n",
        "\n",
        "Com base nos dados analisados, todas as lojas apresentam um desempenho relativamente próximo, porém a **Loja 4** apresenta o **menor faturamento total**, embora tenha uma média de avaliações satisfatória e o menor custo médio de frete.\n",
        "\n",
        "Por outro lado, a **Loja 3** tem um faturamento um pouco maior, a maior média de avaliação dos clientes, e um custo de frete intermediário.\n",
        "\n",
        "Considerando que o objetivo é vender a loja com menor desempenho financeiro, mas também pensando em não comprometer muito a satisfação dos clientes e o custo logístico, **recomendo que o Senhor João venda a Loja 4**, pois ela apresenta o menor faturamento, mantendo uma avaliação razoável e um frete mais baixo.\n"
      ],
      "metadata": {
        "id": "7cLxjC4udIcm"
      }
    }
  ]
}